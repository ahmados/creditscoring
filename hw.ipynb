{
 "cells": [
  {
   "cell_type": "markdown",
   "metadata": {},
   "source": [
    "## Домашнее задание\n",
    "\n",
    "#### Описание задачи\n",
    "В качестве метрики используется [AUC](https://www.kaggle.com/wiki/AreaUnderCurve).\n",
    "#### Описание выборки  \n",
    "\n",
    "##### APPLICATION_INFO.csv  \n",
    " - **id** - идентификатор счета\n",
    " - **application_dt** -  Дата подачи заявки\n",
    " - **sample_cd** -  Категория выборки\n",
    " - **education_cd** -  Образование\n",
    " - **gender_cd** -  Пол\n",
    " - **age** -  Возраст\n",
    " - **car_own_flg** -  Флаг наличия автомобиля\n",
    " - **car_type_flg** -  Флаг наличия иномарки\n",
    " - **appl_rej_cnt** -  Количество отказанных прошлых заявок\n",
    " - **good_work_flg** -  Флаг наличия \"хорошей\" работы\n",
    " - **Score_bki** -  Скор балл по данным из бюро кредитных историй\n",
    " - **out_request_cnt** -  Количество запросов в бюро\n",
    " - **region_rating** -  Рейтинг региона\n",
    " - **home_address_cd** -  Категаризатор домашнего адреса\n",
    " - **work_address_cd** -  Категаризатор рабочего адреса\n",
    " - **income** -  Доход заявителя\n",
    " - **SNA** -  Связь заявителя с клиентами\n",
    " - **first_time_cd** -  Давность наличия информации о заявителе\n",
    " - **Air_flg** -  Наличие загран паспорта\n",
    " \n",
    "##### DEFAULT_FLG.csv  \n",
    "\n",
    " - **id** - идентификатор счета\n",
    " - **default_flg** -  Флаг дефолта по кредиту\n",
    "\n"
   ]
  },
  {
   "cell_type": "markdown",
   "metadata": {},
   "source": [
    "Подключаем библиотеки"
   ]
  },
  {
   "cell_type": "code",
   "execution_count": 47,
   "metadata": {
    "collapsed": true
   },
   "outputs": [],
   "source": [
    "import pandas as pd              #Обработка табличных данных\n",
    "import numpy as np               #Алгоритмы линейной алгебры\n",
    "import matplotlib.pyplot as plt #Различные способы визуализации\n",
    "from collections import Counter\n",
    "\n",
    "%matplotlib inline"
   ]
  },
  {
   "cell_type": "code",
   "execution_count": 48,
   "metadata": {},
   "outputs": [
    {
     "name": "stdout",
     "output_type": "stream",
     "text": [
      "(180816, 1)\n"
     ]
    },
    {
     "data": {
      "text/html": [
       "<div>\n",
       "<style>\n",
       "    .dataframe thead tr:only-child th {\n",
       "        text-align: right;\n",
       "    }\n",
       "\n",
       "    .dataframe thead th {\n",
       "        text-align: left;\n",
       "    }\n",
       "\n",
       "    .dataframe tbody tr th {\n",
       "        vertical-align: top;\n",
       "    }\n",
       "</style>\n",
       "<table border=\"1\" class=\"dataframe\">\n",
       "  <thead>\n",
       "    <tr style=\"text-align: right;\">\n",
       "      <th></th>\n",
       "      <th>default_flg</th>\n",
       "    </tr>\n",
       "    <tr>\n",
       "      <th>id</th>\n",
       "      <th></th>\n",
       "    </tr>\n",
       "  </thead>\n",
       "  <tbody>\n",
       "    <tr>\n",
       "      <th>1</th>\n",
       "      <td>0</td>\n",
       "    </tr>\n",
       "    <tr>\n",
       "      <th>2</th>\n",
       "      <td>0</td>\n",
       "    </tr>\n",
       "  </tbody>\n",
       "</table>\n",
       "</div>"
      ],
      "text/plain": [
       "    default_flg\n",
       "id             \n",
       "1             0\n",
       "2             0"
      ]
     },
     "execution_count": 48,
     "metadata": {},
     "output_type": "execute_result"
    }
   ],
   "source": [
    "y = pd.read_csv('default_flg.csv', index_col='id')\n",
    "print(y.shape)\n",
    "y.head(2)"
   ]
  },
  {
   "cell_type": "markdown",
   "metadata": {},
   "source": [
    "#### Предобработка данных"
   ]
  },
  {
   "cell_type": "markdown",
   "metadata": {},
   "source": [
    "Считываем данные из csv файла"
   ]
  },
  {
   "cell_type": "code",
   "execution_count": 49,
   "metadata": {
    "collapsed": true
   },
   "outputs": [],
   "source": [
    "df = pd.read_csv('application_info.csv', index_col='id')"
   ]
  },
  {
   "cell_type": "markdown",
   "metadata": {},
   "source": [
    "У pandas основные типы данных:\n",
    "* DataFrame - двумерные массивы\n",
    "* Series - одномерный массим"
   ]
  },
  {
   "cell_type": "code",
   "execution_count": 50,
   "metadata": {},
   "outputs": [
    {
     "data": {
      "text/plain": [
       "pandas.core.frame.DataFrame"
      ]
     },
     "execution_count": 50,
     "metadata": {},
     "output_type": "execute_result"
    }
   ],
   "source": [
    "type(df)"
   ]
  },
  {
   "cell_type": "markdown",
   "metadata": {},
   "source": [
    "У DataFrame есть много полезных методов для интерактивного анализа:\n",
    "* `shape` - Размерность данных\n",
    "* `head` - первые строки ((5 по умолчанию)\n",
    "* `tail` - последние строки"
   ]
  },
  {
   "cell_type": "code",
   "execution_count": 51,
   "metadata": {},
   "outputs": [
    {
     "data": {
      "text/plain": [
       "(205296, 18)"
      ]
     },
     "execution_count": 51,
     "metadata": {},
     "output_type": "execute_result"
    }
   ],
   "source": [
    "df.shape"
   ]
  },
  {
   "cell_type": "code",
   "execution_count": 52,
   "metadata": {},
   "outputs": [
    {
     "data": {
      "text/html": [
       "<div>\n",
       "<style>\n",
       "    .dataframe thead tr:only-child th {\n",
       "        text-align: right;\n",
       "    }\n",
       "\n",
       "    .dataframe thead th {\n",
       "        text-align: left;\n",
       "    }\n",
       "\n",
       "    .dataframe tbody tr th {\n",
       "        vertical-align: top;\n",
       "    }\n",
       "</style>\n",
       "<table border=\"1\" class=\"dataframe\">\n",
       "  <thead>\n",
       "    <tr style=\"text-align: right;\">\n",
       "      <th></th>\n",
       "      <th>application_dt</th>\n",
       "      <th>sample_cd</th>\n",
       "      <th>education_cd</th>\n",
       "      <th>gender_cd</th>\n",
       "      <th>age</th>\n",
       "      <th>car_own_flg</th>\n",
       "      <th>car_type_flg</th>\n",
       "      <th>appl_rej_cnt</th>\n",
       "      <th>good_work_flg</th>\n",
       "      <th>Score_bki</th>\n",
       "      <th>out_request_cnt</th>\n",
       "      <th>region_rating</th>\n",
       "      <th>home_address_cd</th>\n",
       "      <th>work_address_cd</th>\n",
       "      <th>income</th>\n",
       "      <th>SNA</th>\n",
       "      <th>first_time_cd</th>\n",
       "      <th>Air_flg</th>\n",
       "    </tr>\n",
       "    <tr>\n",
       "      <th>id</th>\n",
       "      <th></th>\n",
       "      <th></th>\n",
       "      <th></th>\n",
       "      <th></th>\n",
       "      <th></th>\n",
       "      <th></th>\n",
       "      <th></th>\n",
       "      <th></th>\n",
       "      <th></th>\n",
       "      <th></th>\n",
       "      <th></th>\n",
       "      <th></th>\n",
       "      <th></th>\n",
       "      <th></th>\n",
       "      <th></th>\n",
       "      <th></th>\n",
       "      <th></th>\n",
       "      <th></th>\n",
       "    </tr>\n",
       "  </thead>\n",
       "  <tbody>\n",
       "    <tr>\n",
       "      <th>1</th>\n",
       "      <td>01JAN2014</td>\n",
       "      <td>train</td>\n",
       "      <td>SCH</td>\n",
       "      <td>M</td>\n",
       "      <td>27</td>\n",
       "      <td>Y</td>\n",
       "      <td>Y</td>\n",
       "      <td>0</td>\n",
       "      <td>0</td>\n",
       "      <td>-1.917831</td>\n",
       "      <td>0</td>\n",
       "      <td>40</td>\n",
       "      <td>2</td>\n",
       "      <td>3</td>\n",
       "      <td>32000</td>\n",
       "      <td>1</td>\n",
       "      <td>4</td>\n",
       "      <td>N</td>\n",
       "    </tr>\n",
       "    <tr>\n",
       "      <th>2</th>\n",
       "      <td>01JAN2014</td>\n",
       "      <td>train</td>\n",
       "      <td>GRD</td>\n",
       "      <td>F</td>\n",
       "      <td>26</td>\n",
       "      <td>N</td>\n",
       "      <td>N</td>\n",
       "      <td>0</td>\n",
       "      <td>0</td>\n",
       "      <td>-1.153144</td>\n",
       "      <td>2</td>\n",
       "      <td>60</td>\n",
       "      <td>2</td>\n",
       "      <td>3</td>\n",
       "      <td>50000</td>\n",
       "      <td>2</td>\n",
       "      <td>1</td>\n",
       "      <td>N</td>\n",
       "    </tr>\n",
       "    <tr>\n",
       "      <th>3</th>\n",
       "      <td>01JAN2014</td>\n",
       "      <td>train</td>\n",
       "      <td>SCH</td>\n",
       "      <td>M</td>\n",
       "      <td>35</td>\n",
       "      <td>N</td>\n",
       "      <td>N</td>\n",
       "      <td>0</td>\n",
       "      <td>1</td>\n",
       "      <td>-1.732810</td>\n",
       "      <td>0</td>\n",
       "      <td>40</td>\n",
       "      <td>1</td>\n",
       "      <td>2</td>\n",
       "      <td>20000</td>\n",
       "      <td>4</td>\n",
       "      <td>3</td>\n",
       "      <td>N</td>\n",
       "    </tr>\n",
       "  </tbody>\n",
       "</table>\n",
       "</div>"
      ],
      "text/plain": [
       "   application_dt sample_cd education_cd gender_cd  age car_own_flg  \\\n",
       "id                                                                    \n",
       "1       01JAN2014     train          SCH         M   27           Y   \n",
       "2       01JAN2014     train          GRD         F   26           N   \n",
       "3       01JAN2014     train          SCH         M   35           N   \n",
       "\n",
       "   car_type_flg  appl_rej_cnt  good_work_flg  Score_bki  out_request_cnt  \\\n",
       "id                                                                         \n",
       "1             Y             0              0  -1.917831                0   \n",
       "2             N             0              0  -1.153144                2   \n",
       "3             N             0              1  -1.732810                0   \n",
       "\n",
       "    region_rating  home_address_cd  work_address_cd  income  SNA  \\\n",
       "id                                                                 \n",
       "1              40                2                3   32000    1   \n",
       "2              60                2                3   50000    2   \n",
       "3              40                1                2   20000    4   \n",
       "\n",
       "    first_time_cd Air_flg  \n",
       "id                         \n",
       "1               4       N  \n",
       "2               1       N  \n",
       "3               3       N  "
      ]
     },
     "execution_count": 52,
     "metadata": {},
     "output_type": "execute_result"
    }
   ],
   "source": [
    "df.head(3)"
   ]
  },
  {
   "cell_type": "code",
   "execution_count": 53,
   "metadata": {},
   "outputs": [
    {
     "data": {
      "text/html": [
       "<div>\n",
       "<style>\n",
       "    .dataframe thead tr:only-child th {\n",
       "        text-align: right;\n",
       "    }\n",
       "\n",
       "    .dataframe thead th {\n",
       "        text-align: left;\n",
       "    }\n",
       "\n",
       "    .dataframe tbody tr th {\n",
       "        vertical-align: top;\n",
       "    }\n",
       "</style>\n",
       "<table border=\"1\" class=\"dataframe\">\n",
       "  <thead>\n",
       "    <tr style=\"text-align: right;\">\n",
       "      <th></th>\n",
       "      <th>application_dt</th>\n",
       "      <th>sample_cd</th>\n",
       "      <th>education_cd</th>\n",
       "      <th>gender_cd</th>\n",
       "      <th>age</th>\n",
       "      <th>car_own_flg</th>\n",
       "      <th>car_type_flg</th>\n",
       "      <th>appl_rej_cnt</th>\n",
       "      <th>good_work_flg</th>\n",
       "      <th>Score_bki</th>\n",
       "      <th>out_request_cnt</th>\n",
       "      <th>region_rating</th>\n",
       "      <th>home_address_cd</th>\n",
       "      <th>work_address_cd</th>\n",
       "      <th>income</th>\n",
       "      <th>SNA</th>\n",
       "      <th>first_time_cd</th>\n",
       "      <th>Air_flg</th>\n",
       "    </tr>\n",
       "    <tr>\n",
       "      <th>id</th>\n",
       "      <th></th>\n",
       "      <th></th>\n",
       "      <th></th>\n",
       "      <th></th>\n",
       "      <th></th>\n",
       "      <th></th>\n",
       "      <th></th>\n",
       "      <th></th>\n",
       "      <th></th>\n",
       "      <th></th>\n",
       "      <th></th>\n",
       "      <th></th>\n",
       "      <th></th>\n",
       "      <th></th>\n",
       "      <th></th>\n",
       "      <th></th>\n",
       "      <th></th>\n",
       "      <th></th>\n",
       "    </tr>\n",
       "  </thead>\n",
       "  <tbody>\n",
       "    <tr>\n",
       "      <th>205295</th>\n",
       "      <td>31MAR2015</td>\n",
       "      <td>test</td>\n",
       "      <td>PGR</td>\n",
       "      <td>M</td>\n",
       "      <td>27</td>\n",
       "      <td>Y</td>\n",
       "      <td>Y</td>\n",
       "      <td>1</td>\n",
       "      <td>0</td>\n",
       "      <td>-1.552576</td>\n",
       "      <td>0</td>\n",
       "      <td>50</td>\n",
       "      <td>1</td>\n",
       "      <td>3</td>\n",
       "      <td>32500</td>\n",
       "      <td>1</td>\n",
       "      <td>3</td>\n",
       "      <td>Y</td>\n",
       "    </tr>\n",
       "    <tr>\n",
       "      <th>205296</th>\n",
       "      <td>31MAR2015</td>\n",
       "      <td>test</td>\n",
       "      <td>GRD</td>\n",
       "      <td>F</td>\n",
       "      <td>44</td>\n",
       "      <td>N</td>\n",
       "      <td>N</td>\n",
       "      <td>0</td>\n",
       "      <td>1</td>\n",
       "      <td>-1.517509</td>\n",
       "      <td>4</td>\n",
       "      <td>50</td>\n",
       "      <td>1</td>\n",
       "      <td>3</td>\n",
       "      <td>30000</td>\n",
       "      <td>1</td>\n",
       "      <td>4</td>\n",
       "      <td>Y</td>\n",
       "    </tr>\n",
       "  </tbody>\n",
       "</table>\n",
       "</div>"
      ],
      "text/plain": [
       "       application_dt sample_cd education_cd gender_cd  age car_own_flg  \\\n",
       "id                                                                        \n",
       "205295      31MAR2015      test          PGR         M   27           Y   \n",
       "205296      31MAR2015      test          GRD         F   44           N   \n",
       "\n",
       "       car_type_flg  appl_rej_cnt  good_work_flg  Score_bki  out_request_cnt  \\\n",
       "id                                                                             \n",
       "205295            Y             1              0  -1.552576                0   \n",
       "205296            N             0              1  -1.517509                4   \n",
       "\n",
       "        region_rating  home_address_cd  work_address_cd  income  SNA  \\\n",
       "id                                                                     \n",
       "205295             50                1                3   32500    1   \n",
       "205296             50                1                3   30000    1   \n",
       "\n",
       "        first_time_cd Air_flg  \n",
       "id                             \n",
       "205295              3       Y  \n",
       "205296              4       Y  "
      ]
     },
     "execution_count": 53,
     "metadata": {},
     "output_type": "execute_result"
    }
   ],
   "source": [
    "df.tail(2)"
   ]
  },
  {
   "cell_type": "code",
   "execution_count": 54,
   "metadata": {},
   "outputs": [
    {
     "data": {
      "text/plain": [
       "Index(['application_dt', 'sample_cd', 'education_cd', 'gender_cd', 'age',\n",
       "       'car_own_flg', 'car_type_flg', 'appl_rej_cnt', 'good_work_flg',\n",
       "       'Score_bki', 'out_request_cnt', 'region_rating', 'home_address_cd',\n",
       "       'work_address_cd', 'income', 'SNA', 'first_time_cd', 'Air_flg'],\n",
       "      dtype='object')"
      ]
     },
     "execution_count": 54,
     "metadata": {},
     "output_type": "execute_result"
    }
   ],
   "source": [
    "df.columns"
   ]
  },
  {
   "cell_type": "markdown",
   "metadata": {},
   "source": [
    "Типы полей"
   ]
  },
  {
   "cell_type": "code",
   "execution_count": 55,
   "metadata": {},
   "outputs": [
    {
     "data": {
      "text/plain": [
       "application_dt      object\n",
       "sample_cd           object\n",
       "education_cd        object\n",
       "gender_cd           object\n",
       "age                  int64\n",
       "car_own_flg         object\n",
       "car_type_flg        object\n",
       "appl_rej_cnt         int64\n",
       "good_work_flg        int64\n",
       "Score_bki          float64\n",
       "out_request_cnt      int64\n",
       "region_rating        int64\n",
       "home_address_cd      int64\n",
       "work_address_cd      int64\n",
       "income               int64\n",
       "SNA                  int64\n",
       "first_time_cd        int64\n",
       "Air_flg             object\n",
       "dtype: object"
      ]
     },
     "execution_count": 55,
     "metadata": {},
     "output_type": "execute_result"
    }
   ],
   "source": [
    "df.dtypes"
   ]
  },
  {
   "cell_type": "markdown",
   "metadata": {},
   "source": [
    "Выведем сводную информацию по числовым признакам"
   ]
  },
  {
   "cell_type": "code",
   "execution_count": 56,
   "metadata": {},
   "outputs": [
    {
     "data": {
      "text/html": [
       "<div>\n",
       "<style>\n",
       "    .dataframe thead tr:only-child th {\n",
       "        text-align: right;\n",
       "    }\n",
       "\n",
       "    .dataframe thead th {\n",
       "        text-align: left;\n",
       "    }\n",
       "\n",
       "    .dataframe tbody tr th {\n",
       "        vertical-align: top;\n",
       "    }\n",
       "</style>\n",
       "<table border=\"1\" class=\"dataframe\">\n",
       "  <thead>\n",
       "    <tr style=\"text-align: right;\">\n",
       "      <th></th>\n",
       "      <th>age</th>\n",
       "      <th>appl_rej_cnt</th>\n",
       "      <th>good_work_flg</th>\n",
       "      <th>Score_bki</th>\n",
       "      <th>out_request_cnt</th>\n",
       "      <th>region_rating</th>\n",
       "      <th>home_address_cd</th>\n",
       "      <th>work_address_cd</th>\n",
       "      <th>income</th>\n",
       "      <th>SNA</th>\n",
       "      <th>first_time_cd</th>\n",
       "    </tr>\n",
       "  </thead>\n",
       "  <tbody>\n",
       "    <tr>\n",
       "      <th>count</th>\n",
       "      <td>205296.000000</td>\n",
       "      <td>205296.000000</td>\n",
       "      <td>205296.000000</td>\n",
       "      <td>205296.000000</td>\n",
       "      <td>205296.000000</td>\n",
       "      <td>205296.000000</td>\n",
       "      <td>205296.000000</td>\n",
       "      <td>205296.000000</td>\n",
       "      <td>205296.000000</td>\n",
       "      <td>205296.000000</td>\n",
       "      <td>205296.000000</td>\n",
       "    </tr>\n",
       "    <tr>\n",
       "      <th>mean</th>\n",
       "      <td>39.354566</td>\n",
       "      <td>0.277297</td>\n",
       "      <td>0.169701</td>\n",
       "      <td>-1.967120</td>\n",
       "      <td>2.015826</td>\n",
       "      <td>57.332340</td>\n",
       "      <td>1.602218</td>\n",
       "      <td>2.520210</td>\n",
       "      <td>42251.807610</td>\n",
       "      <td>1.725864</td>\n",
       "      <td>2.791657</td>\n",
       "    </tr>\n",
       "    <tr>\n",
       "      <th>std</th>\n",
       "      <td>11.451011</td>\n",
       "      <td>0.782794</td>\n",
       "      <td>0.375371</td>\n",
       "      <td>0.488055</td>\n",
       "      <td>2.138564</td>\n",
       "      <td>13.262627</td>\n",
       "      <td>0.520577</td>\n",
       "      <td>0.689453</td>\n",
       "      <td>45183.110679</td>\n",
       "      <td>1.115876</td>\n",
       "      <td>1.024393</td>\n",
       "    </tr>\n",
       "    <tr>\n",
       "      <th>min</th>\n",
       "      <td>21.000000</td>\n",
       "      <td>0.000000</td>\n",
       "      <td>0.000000</td>\n",
       "      <td>-3.624586</td>\n",
       "      <td>0.000000</td>\n",
       "      <td>20.000000</td>\n",
       "      <td>1.000000</td>\n",
       "      <td>1.000000</td>\n",
       "      <td>1000.000000</td>\n",
       "      <td>1.000000</td>\n",
       "      <td>1.000000</td>\n",
       "    </tr>\n",
       "    <tr>\n",
       "      <th>25%</th>\n",
       "      <td>30.000000</td>\n",
       "      <td>0.000000</td>\n",
       "      <td>0.000000</td>\n",
       "      <td>-2.313894</td>\n",
       "      <td>1.000000</td>\n",
       "      <td>50.000000</td>\n",
       "      <td>1.000000</td>\n",
       "      <td>2.000000</td>\n",
       "      <td>20000.000000</td>\n",
       "      <td>1.000000</td>\n",
       "      <td>2.000000</td>\n",
       "    </tr>\n",
       "    <tr>\n",
       "      <th>50%</th>\n",
       "      <td>37.000000</td>\n",
       "      <td>0.000000</td>\n",
       "      <td>0.000000</td>\n",
       "      <td>-1.990599</td>\n",
       "      <td>2.000000</td>\n",
       "      <td>50.000000</td>\n",
       "      <td>2.000000</td>\n",
       "      <td>3.000000</td>\n",
       "      <td>30000.000000</td>\n",
       "      <td>1.000000</td>\n",
       "      <td>3.000000</td>\n",
       "    </tr>\n",
       "    <tr>\n",
       "      <th>75%</th>\n",
       "      <td>48.000000</td>\n",
       "      <td>0.000000</td>\n",
       "      <td>0.000000</td>\n",
       "      <td>-1.641914</td>\n",
       "      <td>3.000000</td>\n",
       "      <td>70.000000</td>\n",
       "      <td>2.000000</td>\n",
       "      <td>3.000000</td>\n",
       "      <td>50000.000000</td>\n",
       "      <td>2.000000</td>\n",
       "      <td>4.000000</td>\n",
       "    </tr>\n",
       "    <tr>\n",
       "      <th>max</th>\n",
       "      <td>72.000000</td>\n",
       "      <td>33.000000</td>\n",
       "      <td>1.000000</td>\n",
       "      <td>0.199773</td>\n",
       "      <td>53.000000</td>\n",
       "      <td>80.000000</td>\n",
       "      <td>3.000000</td>\n",
       "      <td>3.000000</td>\n",
       "      <td>1000000.000000</td>\n",
       "      <td>4.000000</td>\n",
       "      <td>4.000000</td>\n",
       "    </tr>\n",
       "  </tbody>\n",
       "</table>\n",
       "</div>"
      ],
      "text/plain": [
       "                 age   appl_rej_cnt  good_work_flg      Score_bki  \\\n",
       "count  205296.000000  205296.000000  205296.000000  205296.000000   \n",
       "mean       39.354566       0.277297       0.169701      -1.967120   \n",
       "std        11.451011       0.782794       0.375371       0.488055   \n",
       "min        21.000000       0.000000       0.000000      -3.624586   \n",
       "25%        30.000000       0.000000       0.000000      -2.313894   \n",
       "50%        37.000000       0.000000       0.000000      -1.990599   \n",
       "75%        48.000000       0.000000       0.000000      -1.641914   \n",
       "max        72.000000      33.000000       1.000000       0.199773   \n",
       "\n",
       "       out_request_cnt  region_rating  home_address_cd  work_address_cd  \\\n",
       "count    205296.000000  205296.000000    205296.000000    205296.000000   \n",
       "mean          2.015826      57.332340         1.602218         2.520210   \n",
       "std           2.138564      13.262627         0.520577         0.689453   \n",
       "min           0.000000      20.000000         1.000000         1.000000   \n",
       "25%           1.000000      50.000000         1.000000         2.000000   \n",
       "50%           2.000000      50.000000         2.000000         3.000000   \n",
       "75%           3.000000      70.000000         2.000000         3.000000   \n",
       "max          53.000000      80.000000         3.000000         3.000000   \n",
       "\n",
       "               income            SNA  first_time_cd  \n",
       "count   205296.000000  205296.000000  205296.000000  \n",
       "mean     42251.807610       1.725864       2.791657  \n",
       "std      45183.110679       1.115876       1.024393  \n",
       "min       1000.000000       1.000000       1.000000  \n",
       "25%      20000.000000       1.000000       2.000000  \n",
       "50%      30000.000000       1.000000       3.000000  \n",
       "75%      50000.000000       2.000000       4.000000  \n",
       "max    1000000.000000       4.000000       4.000000  "
      ]
     },
     "execution_count": 56,
     "metadata": {},
     "output_type": "execute_result"
    }
   ],
   "source": [
    "df.describe()"
   ]
  },
  {
   "cell_type": "markdown",
   "metadata": {},
   "source": [
    "Выведем сводную информацию по строковым признакам"
   ]
  },
  {
   "cell_type": "code",
   "execution_count": 57,
   "metadata": {
    "scrolled": true
   },
   "outputs": [
    {
     "data": {
      "text/plain": [
       "count     205296.000000\n",
       "mean       42251.807610\n",
       "std        45183.110679\n",
       "min         1000.000000\n",
       "25%        20000.000000\n",
       "50%        30000.000000\n",
       "75%        50000.000000\n",
       "max      1000000.000000\n",
       "Name: income, dtype: float64"
      ]
     },
     "execution_count": 57,
     "metadata": {},
     "output_type": "execute_result"
    }
   ],
   "source": [
    "df.income.describe()"
   ]
  },
  {
   "cell_type": "code",
   "execution_count": 58,
   "metadata": {},
   "outputs": [
    {
     "data": {
      "text/html": [
       "<div>\n",
       "<style>\n",
       "    .dataframe thead tr:only-child th {\n",
       "        text-align: right;\n",
       "    }\n",
       "\n",
       "    .dataframe thead th {\n",
       "        text-align: left;\n",
       "    }\n",
       "\n",
       "    .dataframe tbody tr th {\n",
       "        vertical-align: top;\n",
       "    }\n",
       "</style>\n",
       "<table border=\"1\" class=\"dataframe\">\n",
       "  <thead>\n",
       "    <tr style=\"text-align: right;\">\n",
       "      <th></th>\n",
       "      <th>application_dt</th>\n",
       "      <th>sample_cd</th>\n",
       "      <th>education_cd</th>\n",
       "      <th>gender_cd</th>\n",
       "      <th>car_own_flg</th>\n",
       "      <th>car_type_flg</th>\n",
       "      <th>Air_flg</th>\n",
       "    </tr>\n",
       "  </thead>\n",
       "  <tbody>\n",
       "    <tr>\n",
       "      <th>count</th>\n",
       "      <td>205296</td>\n",
       "      <td>205296</td>\n",
       "      <td>204384</td>\n",
       "      <td>205296</td>\n",
       "      <td>205296</td>\n",
       "      <td>205296</td>\n",
       "      <td>205296</td>\n",
       "    </tr>\n",
       "    <tr>\n",
       "      <th>unique</th>\n",
       "      <td>333</td>\n",
       "      <td>3</td>\n",
       "      <td>5</td>\n",
       "      <td>2</td>\n",
       "      <td>2</td>\n",
       "      <td>2</td>\n",
       "      <td>2</td>\n",
       "    </tr>\n",
       "    <tr>\n",
       "      <th>top</th>\n",
       "      <td>18MAR2014</td>\n",
       "      <td>train</td>\n",
       "      <td>SCH</td>\n",
       "      <td>F</td>\n",
       "      <td>N</td>\n",
       "      <td>N</td>\n",
       "      <td>N</td>\n",
       "    </tr>\n",
       "    <tr>\n",
       "      <th>freq</th>\n",
       "      <td>1491</td>\n",
       "      <td>110148</td>\n",
       "      <td>100234</td>\n",
       "      <td>117400</td>\n",
       "      <td>139119</td>\n",
       "      <td>166471</td>\n",
       "      <td>172168</td>\n",
       "    </tr>\n",
       "  </tbody>\n",
       "</table>\n",
       "</div>"
      ],
      "text/plain": [
       "       application_dt sample_cd education_cd gender_cd car_own_flg  \\\n",
       "count          205296    205296       204384    205296      205296   \n",
       "unique            333         3            5         2           2   \n",
       "top         18MAR2014     train          SCH         F           N   \n",
       "freq             1491    110148       100234    117400      139119   \n",
       "\n",
       "       car_type_flg Air_flg  \n",
       "count        205296  205296  \n",
       "unique            2       2  \n",
       "top               N       N  \n",
       "freq         166471  172168  "
      ]
     },
     "execution_count": 58,
     "metadata": {},
     "output_type": "execute_result"
    }
   ],
   "source": [
    "df.describe(include=['object'])"
   ]
  },
  {
   "cell_type": "markdown",
   "metadata": {},
   "source": [
    "Изменим формат у столбца `application_date` на дату."
   ]
  },
  {
   "cell_type": "code",
   "execution_count": 59,
   "metadata": {
    "collapsed": true
   },
   "outputs": [],
   "source": [
    "df['application_dt'] = pd.to_datetime(df['application_dt'], format='%d%b%Y')"
   ]
  },
  {
   "cell_type": "markdown",
   "metadata": {},
   "source": [
    "С помощью `value_counts` можно считать кол-во значений"
   ]
  },
  {
   "cell_type": "code",
   "execution_count": 60,
   "metadata": {},
   "outputs": [
    {
     "data": {
      "text/plain": [
       "train       110148\n",
       "validate     70668\n",
       "test         24480\n",
       "Name: sample_cd, dtype: int64"
      ]
     },
     "execution_count": 60,
     "metadata": {},
     "output_type": "execute_result"
    }
   ],
   "source": [
    "df.sample_cd.value_counts()"
   ]
  },
  {
   "cell_type": "markdown",
   "metadata": {},
   "source": [
    "Встроенный метод `plot` у `DataFrame` и `Series` позволяет быстро строить диаграммы."
   ]
  },
  {
   "cell_type": "code",
   "execution_count": 61,
   "metadata": {
    "scrolled": true
   },
   "outputs": [
    {
     "data": {
      "image/png": "[encoded data removed]",
      "text/plain": [
       "<matplotlib.figure.Figure at 0x10a361ba8>"
      ]
     },
     "metadata": {},
     "output_type": "display_data"
    }
   ],
   "source": [
    "df.sample_cd.value_counts().plot(kind='bar');"
   ]
  },
  {
   "cell_type": "code",
   "execution_count": 62,
   "metadata": {},
   "outputs": [
    {
     "data": {
      "image/png": "[encoded data removed]",
      "text/plain": [
       "<matplotlib.figure.Figure at 0x121a5cf60>"
      ]
     },
     "metadata": {},
     "output_type": "display_data"
    }
   ],
   "source": [
    "df.application_dt.value_counts().plot();"
   ]
  },
  {
   "cell_type": "markdown",
   "metadata": {},
   "source": [
    "Запоминаем разбивку на обучение, валидацию и тест"
   ]
  },
  {
   "cell_type": "code",
   "execution_count": 63,
   "metadata": {
    "scrolled": true
   },
   "outputs": [],
   "source": [
    "train_index    = df[df.sample_cd =='train'].sample_cd.index\n",
    "validate_index = df[df.sample_cd =='validate'].sample_cd.index\n",
    "test_index     = df[df.sample_cd =='test'].sample_cd.index\n",
    "\n",
    "trainandvalidate_index = df[(df.sample_cd != 'test')].sample_cd.index\n",
    "\n",
    "df.drop(['sample_cd','application_dt'],axis=1,inplace=True) #Удаляем два столбца из выборки"
   ]
  },
  {
   "cell_type": "markdown",
   "metadata": {},
   "source": [
    "Список категориальных полей"
   ]
  },
  {
   "cell_type": "code",
   "execution_count": 64,
   "metadata": {},
   "outputs": [
    {
     "data": {
      "text/plain": [
       "['education_cd', 'gender_cd', 'car_own_flg', 'car_type_flg', 'Air_flg']"
      ]
     },
     "execution_count": 64,
     "metadata": {},
     "output_type": "execute_result"
    }
   ],
   "source": [
    "category_columns = [col for col in df.columns if df.dtypes[col] == 'object']\n",
    "category_columns"
   ]
  },
  {
   "cell_type": "markdown",
   "metadata": {},
   "source": [
    "Поля с пустыми значениями"
   ]
  },
  {
   "cell_type": "code",
   "execution_count": 65,
   "metadata": {},
   "outputs": [
    {
     "data": {
      "text/plain": [
       "education_cd        True\n",
       "gender_cd          False\n",
       "age                False\n",
       "car_own_flg        False\n",
       "car_type_flg       False\n",
       "appl_rej_cnt       False\n",
       "good_work_flg      False\n",
       "Score_bki          False\n",
       "out_request_cnt    False\n",
       "region_rating      False\n",
       "home_address_cd    False\n",
       "work_address_cd    False\n",
       "income             False\n",
       "SNA                False\n",
       "first_time_cd      False\n",
       "Air_flg            False\n",
       "dtype: bool"
      ]
     },
     "execution_count": 65,
     "metadata": {},
     "output_type": "execute_result"
    }
   ],
   "source": [
    "df.isnull().any()"
   ]
  },
  {
   "cell_type": "code",
   "execution_count": 66,
   "metadata": {},
   "outputs": [
    {
     "data": {
      "text/plain": [
       "SCH    100234\n",
       "GRD     71417\n",
       "UGR     28284\n",
       "PGR      3841\n",
       "NaN       912\n",
       "ACD       608\n",
       "Name: education_cd, dtype: int64"
      ]
     },
     "execution_count": 66,
     "metadata": {},
     "output_type": "execute_result"
    }
   ],
   "source": [
    "df.education_cd.value_counts(dropna=False)"
   ]
  },
  {
   "cell_type": "markdown",
   "metadata": {},
   "source": [
    "Заменим пустые значения на самое частое"
   ]
  },
  {
   "cell_type": "code",
   "execution_count": 67,
   "metadata": {
    "collapsed": true
   },
   "outputs": [],
   "source": [
    "df.education_cd.fillna('SCH', inplace=True)"
   ]
  },
  {
   "cell_type": "markdown",
   "metadata": {},
   "source": [
    "Производим dummy кодирование не числовых полей"
   ]
  },
  {
   "cell_type": "code",
   "execution_count": 68,
   "metadata": {},
   "outputs": [
    {
     "data": {
      "text/html": [
       "<div>\n",
       "<style>\n",
       "    .dataframe thead tr:only-child th {\n",
       "        text-align: right;\n",
       "    }\n",
       "\n",
       "    .dataframe thead th {\n",
       "        text-align: left;\n",
       "    }\n",
       "\n",
       "    .dataframe tbody tr th {\n",
       "        vertical-align: top;\n",
       "    }\n",
       "</style>\n",
       "<table border=\"1\" class=\"dataframe\">\n",
       "  <thead>\n",
       "    <tr style=\"text-align: right;\">\n",
       "      <th></th>\n",
       "      <th>education_cd_GRD</th>\n",
       "      <th>education_cd_PGR</th>\n",
       "      <th>education_cd_SCH</th>\n",
       "      <th>education_cd_UGR</th>\n",
       "      <th>gender_cd_M</th>\n",
       "      <th>car_own_flg_Y</th>\n",
       "      <th>car_type_flg_Y</th>\n",
       "      <th>Air_flg_Y</th>\n",
       "    </tr>\n",
       "    <tr>\n",
       "      <th>id</th>\n",
       "      <th></th>\n",
       "      <th></th>\n",
       "      <th></th>\n",
       "      <th></th>\n",
       "      <th></th>\n",
       "      <th></th>\n",
       "      <th></th>\n",
       "      <th></th>\n",
       "    </tr>\n",
       "  </thead>\n",
       "  <tbody>\n",
       "    <tr>\n",
       "      <th>1</th>\n",
       "      <td>0</td>\n",
       "      <td>0</td>\n",
       "      <td>1</td>\n",
       "      <td>0</td>\n",
       "      <td>1</td>\n",
       "      <td>1</td>\n",
       "      <td>1</td>\n",
       "      <td>0</td>\n",
       "    </tr>\n",
       "    <tr>\n",
       "      <th>2</th>\n",
       "      <td>1</td>\n",
       "      <td>0</td>\n",
       "      <td>0</td>\n",
       "      <td>0</td>\n",
       "      <td>0</td>\n",
       "      <td>0</td>\n",
       "      <td>0</td>\n",
       "      <td>0</td>\n",
       "    </tr>\n",
       "  </tbody>\n",
       "</table>\n",
       "</div>"
      ],
      "text/plain": [
       "    education_cd_GRD  education_cd_PGR  education_cd_SCH  education_cd_UGR  \\\n",
       "id                                                                           \n",
       "1                  0                 0                 1                 0   \n",
       "2                  1                 0                 0                 0   \n",
       "\n",
       "    gender_cd_M  car_own_flg_Y  car_type_flg_Y  Air_flg_Y  \n",
       "id                                                         \n",
       "1             1              1               1          0  \n",
       "2             0              0               0          0  "
      ]
     },
     "execution_count": 68,
     "metadata": {},
     "output_type": "execute_result"
    }
   ],
   "source": [
    "data_category = pd.get_dummies(df[category_columns], drop_first=True)\n",
    "data_category.head(2)"
   ]
  },
  {
   "cell_type": "markdown",
   "metadata": {},
   "source": [
    "Заменяем не числовые поля на dummy кодированные"
   ]
  },
  {
   "cell_type": "code",
   "execution_count": 69,
   "metadata": {},
   "outputs": [
    {
     "data": {
      "text/plain": [
       "(205296, 19)"
      ]
     },
     "execution_count": 69,
     "metadata": {},
     "output_type": "execute_result"
    }
   ],
   "source": [
    "df.drop(category_columns, axis=1, inplace=True)\n",
    "df = pd.concat([df, data_category], axis=1)\n",
    "df.shape"
   ]
  },
  {
   "cell_type": "markdown",
   "metadata": {},
   "source": [
    "Проверяем типы полей"
   ]
  },
  {
   "cell_type": "code",
   "execution_count": 70,
   "metadata": {},
   "outputs": [
    {
     "data": {
      "text/plain": [
       "age                   int64\n",
       "appl_rej_cnt          int64\n",
       "good_work_flg         int64\n",
       "Score_bki           float64\n",
       "out_request_cnt       int64\n",
       "region_rating         int64\n",
       "home_address_cd       int64\n",
       "work_address_cd       int64\n",
       "income                int64\n",
       "SNA                   int64\n",
       "first_time_cd         int64\n",
       "education_cd_GRD      uint8\n",
       "education_cd_PGR      uint8\n",
       "education_cd_SCH      uint8\n",
       "education_cd_UGR      uint8\n",
       "gender_cd_M           uint8\n",
       "car_own_flg_Y         uint8\n",
       "car_type_flg_Y        uint8\n",
       "Air_flg_Y             uint8\n",
       "dtype: object"
      ]
     },
     "execution_count": 70,
     "metadata": {},
     "output_type": "execute_result"
    }
   ],
   "source": [
    "df.dtypes"
   ]
  },
  {
   "cell_type": "markdown",
   "metadata": {},
   "source": [
    "## Исследуем доход"
   ]
  },
  {
   "cell_type": "code",
   "execution_count": 71,
   "metadata": {},
   "outputs": [
    {
     "data": {
      "text/plain": [
       "<matplotlib.axes._subplots.AxesSubplot at 0x1161d17b8>"
      ]
     },
     "execution_count": 71,
     "metadata": {},
     "output_type": "execute_result"
    },
    {
     "data": {
      "image/png": "[encoded data removed]",
      "text/plain": [
       "<matplotlib.figure.Figure at 0x117223fd0>"
      ]
     },
     "metadata": {},
     "output_type": "display_data"
    }
   ],
   "source": [
    "df.income.plot.box()"
   ]
  },
  {
   "cell_type": "code",
   "execution_count": 72,
   "metadata": {},
   "outputs": [
    {
     "data": {
      "text/plain": [
       "(2043, 19)"
      ]
     },
     "execution_count": 72,
     "metadata": {},
     "output_type": "execute_result"
    }
   ],
   "source": [
    "df[df.income > 200000].shape"
   ]
  },
  {
   "cell_type": "markdown",
   "metadata": {},
   "source": [
    "### Довольно мало значений больше 200000, и они могут быть \"outliers\""
   ]
  },
  {
   "cell_type": "code",
   "execution_count": 73,
   "metadata": {
    "collapsed": true
   },
   "outputs": [],
   "source": [
    "incomeNew = []\n",
    "for inc in df.income:\n",
    "    if (inc > 200000):\n",
    "        incomeNew.append(200000)\n",
    "    else:\n",
    "        incomeNew.append(inc)\n",
    "df.income = incomeNew"
   ]
  },
  {
   "cell_type": "markdown",
   "metadata": {},
   "source": [
    "### Подкорректируем appl_rej_cnt и score_bki"
   ]
  },
  {
   "cell_type": "code",
   "execution_count": 74,
   "metadata": {},
   "outputs": [
    {
     "data": {
      "text/plain": [
       "Counter({0: 169284,\n",
       "         1: 24413,\n",
       "         2: 6954,\n",
       "         3: 2507,\n",
       "         4: 1085,\n",
       "         5: 471,\n",
       "         6: 284,\n",
       "         7: 113,\n",
       "         8: 71,\n",
       "         9: 40,\n",
       "         10: 26,\n",
       "         11: 11,\n",
       "         12: 8,\n",
       "         13: 8,\n",
       "         14: 5,\n",
       "         15: 2,\n",
       "         16: 4,\n",
       "         18: 3,\n",
       "         19: 1,\n",
       "         20: 1,\n",
       "         21: 1,\n",
       "         22: 1,\n",
       "         24: 1,\n",
       "         30: 1,\n",
       "         33: 1})"
      ]
     },
     "execution_count": 74,
     "metadata": {},
     "output_type": "execute_result"
    }
   ],
   "source": [
    "Counter(df.appl_rej_cnt)"
   ]
  },
  {
   "cell_type": "code",
   "execution_count": 75,
   "metadata": {
    "collapsed": true
   },
   "outputs": [],
   "source": [
    "newapplrejcnt = []\n",
    "for val in df.appl_rej_cnt:\n",
    "    if (val > 10):\n",
    "        newapplrejcnt.append(10)\n",
    "    else:\n",
    "        newapplrejcnt.append(val)\n",
    "df.appl_rej_cnt = newapplrejcnt"
   ]
  },
  {
   "cell_type": "code",
   "execution_count": 76,
   "metadata": {},
   "outputs": [
    {
     "data": {
      "text/plain": [
       "Counter({-362: 3,\n",
       "         -359: 1,\n",
       "         -358: 3,\n",
       "         -357: 1,\n",
       "         -356: 1,\n",
       "         -355: 1,\n",
       "         -354: 2,\n",
       "         -353: 1,\n",
       "         -352: 1,\n",
       "         -351: 1,\n",
       "         -349: 4,\n",
       "         -348: 2,\n",
       "         -347: 5,\n",
       "         -345: 9,\n",
       "         -344: 3,\n",
       "         -343: 3,\n",
       "         -342: 2,\n",
       "         -341: 3,\n",
       "         -340: 4,\n",
       "         -339: 10,\n",
       "         -338: 6,\n",
       "         -337: 8,\n",
       "         -336: 5,\n",
       "         -335: 12,\n",
       "         -334: 7,\n",
       "         -333: 13,\n",
       "         -332: 10,\n",
       "         -331: 12,\n",
       "         -330: 8,\n",
       "         -329: 13,\n",
       "         -328: 18,\n",
       "         -327: 13,\n",
       "         -326: 27,\n",
       "         -325: 20,\n",
       "         -324: 17,\n",
       "         -323: 21,\n",
       "         -322: 25,\n",
       "         -321: 34,\n",
       "         -320: 26,\n",
       "         -319: 26,\n",
       "         -318: 35,\n",
       "         -317: 34,\n",
       "         -316: 24,\n",
       "         -315: 50,\n",
       "         -314: 56,\n",
       "         -313: 41,\n",
       "         -312: 49,\n",
       "         -311: 58,\n",
       "         -310: 52,\n",
       "         -309: 75,\n",
       "         -308: 62,\n",
       "         -307: 76,\n",
       "         -306: 76,\n",
       "         -305: 91,\n",
       "         -304: 97,\n",
       "         -303: 93,\n",
       "         -302: 124,\n",
       "         -301: 106,\n",
       "         -300: 145,\n",
       "         -299: 125,\n",
       "         -298: 183,\n",
       "         -297: 155,\n",
       "         -296: 167,\n",
       "         -295: 197,\n",
       "         -294: 192,\n",
       "         -293: 204,\n",
       "         -292: 252,\n",
       "         -291: 221,\n",
       "         -290: 226,\n",
       "         -289: 314,\n",
       "         -288: 270,\n",
       "         -287: 262,\n",
       "         -286: 345,\n",
       "         -285: 352,\n",
       "         -284: 340,\n",
       "         -283: 337,\n",
       "         -282: 402,\n",
       "         -281: 415,\n",
       "         -280: 411,\n",
       "         -279: 416,\n",
       "         -278: 472,\n",
       "         -277: 470,\n",
       "         -276: 454,\n",
       "         -275: 519,\n",
       "         -274: 550,\n",
       "         -273: 624,\n",
       "         -272: 572,\n",
       "         -271: 559,\n",
       "         -270: 576,\n",
       "         -269: 652,\n",
       "         -268: 648,\n",
       "         -267: 708,\n",
       "         -266: 683,\n",
       "         -265: 644,\n",
       "         -264: 678,\n",
       "         -263: 726,\n",
       "         -262: 714,\n",
       "         -261: 785,\n",
       "         -260: 786,\n",
       "         -259: 778,\n",
       "         -258: 818,\n",
       "         -257: 786,\n",
       "         -256: 932,\n",
       "         -255: 856,\n",
       "         -254: 933,\n",
       "         -253: 874,\n",
       "         -252: 951,\n",
       "         -251: 876,\n",
       "         -250: 1001,\n",
       "         -249: 1064,\n",
       "         -248: 996,\n",
       "         -247: 1080,\n",
       "         -246: 995,\n",
       "         -245: 1021,\n",
       "         -244: 1461,\n",
       "         -243: 1087,\n",
       "         -242: 1166,\n",
       "         -241: 1441,\n",
       "         -240: 1162,\n",
       "         -239: 1110,\n",
       "         -238: 1649,\n",
       "         -237: 1245,\n",
       "         -236: 1250,\n",
       "         -235: 1541,\n",
       "         -234: 1246,\n",
       "         -233: 1355,\n",
       "         -232: 1275,\n",
       "         -231: 1525,\n",
       "         -230: 1383,\n",
       "         -229: 1367,\n",
       "         -228: 1368,\n",
       "         -227: 1806,\n",
       "         -226: 1456,\n",
       "         -225: 1353,\n",
       "         -224: 1512,\n",
       "         -223: 1421,\n",
       "         -222: 2239,\n",
       "         -221: 1430,\n",
       "         -220: 1462,\n",
       "         -219: 1440,\n",
       "         -218: 1463,\n",
       "         -217: 1468,\n",
       "         -216: 2228,\n",
       "         -215: 1546,\n",
       "         -214: 1495,\n",
       "         -213: 1566,\n",
       "         -212: 1558,\n",
       "         -211: 1493,\n",
       "         -210: 2347,\n",
       "         -209: 1548,\n",
       "         -208: 1532,\n",
       "         -207: 1491,\n",
       "         -206: 1548,\n",
       "         -205: 1556,\n",
       "         -204: 1527,\n",
       "         -203: 1548,\n",
       "         -202: 2045,\n",
       "         -201: 1525,\n",
       "         -200: 1625,\n",
       "         -199: 1586,\n",
       "         -198: 1562,\n",
       "         -197: 1629,\n",
       "         -196: 1507,\n",
       "         -195: 1485,\n",
       "         -194: 1576,\n",
       "         -193: 1515,\n",
       "         -192: 2031,\n",
       "         -191: 1496,\n",
       "         -190: 1489,\n",
       "         -189: 1520,\n",
       "         -188: 1480,\n",
       "         -187: 1539,\n",
       "         -186: 1466,\n",
       "         -185: 1478,\n",
       "         -184: 1469,\n",
       "         -183: 1487,\n",
       "         -182: 1446,\n",
       "         -181: 1474,\n",
       "         -180: 1429,\n",
       "         -179: 1454,\n",
       "         -178: 1398,\n",
       "         -177: 2357,\n",
       "         -176: 1346,\n",
       "         -175: 1379,\n",
       "         -174: 1357,\n",
       "         -173: 1383,\n",
       "         -172: 1353,\n",
       "         -171: 1360,\n",
       "         -170: 1340,\n",
       "         -169: 1303,\n",
       "         -168: 1320,\n",
       "         -167: 1259,\n",
       "         -166: 1239,\n",
       "         -165: 1314,\n",
       "         -164: 1238,\n",
       "         -163: 1181,\n",
       "         -162: 1200,\n",
       "         -161: 1210,\n",
       "         -160: 1258,\n",
       "         -159: 1126,\n",
       "         -158: 1141,\n",
       "         -157: 1116,\n",
       "         -156: 1113,\n",
       "         -155: 1113,\n",
       "         -154: 1067,\n",
       "         -153: 1062,\n",
       "         -152: 1357,\n",
       "         -151: 952,\n",
       "         -150: 962,\n",
       "         -149: 1012,\n",
       "         -148: 926,\n",
       "         -147: 960,\n",
       "         -146: 919,\n",
       "         -145: 902,\n",
       "         -144: 854,\n",
       "         -143: 887,\n",
       "         -142: 845,\n",
       "         -141: 783,\n",
       "         -140: 785,\n",
       "         -139: 815,\n",
       "         -138: 750,\n",
       "         -137: 806,\n",
       "         -136: 692,\n",
       "         -135: 760,\n",
       "         -134: 709,\n",
       "         -133: 714,\n",
       "         -132: 637,\n",
       "         -131: 635,\n",
       "         -130: 651,\n",
       "         -129: 627,\n",
       "         -128: 607,\n",
       "         -127: 586,\n",
       "         -126: 593,\n",
       "         -125: 539,\n",
       "         -124: 572,\n",
       "         -123: 533,\n",
       "         -122: 542,\n",
       "         -121: 511,\n",
       "         -120: 486,\n",
       "         -119: 476,\n",
       "         -118: 521,\n",
       "         -117: 473,\n",
       "         -116: 466,\n",
       "         -115: 406,\n",
       "         -114: 458,\n",
       "         -113: 388,\n",
       "         -112: 358,\n",
       "         -111: 390,\n",
       "         -110: 399,\n",
       "         -109: 386,\n",
       "         -108: 415,\n",
       "         -107: 335,\n",
       "         -106: 332,\n",
       "         -105: 318,\n",
       "         -104: 284,\n",
       "         -103: 305,\n",
       "         -102: 279,\n",
       "         -101: 279,\n",
       "         -100: 238,\n",
       "         -99: 242,\n",
       "         -98: 253,\n",
       "         -97: 230,\n",
       "         -96: 241,\n",
       "         -95: 236,\n",
       "         -94: 205,\n",
       "         -93: 192,\n",
       "         -92: 220,\n",
       "         -91: 224,\n",
       "         -90: 181,\n",
       "         -89: 163,\n",
       "         -88: 155,\n",
       "         -87: 166,\n",
       "         -86: 158,\n",
       "         -85: 156,\n",
       "         -84: 144,\n",
       "         -83: 126,\n",
       "         -82: 142,\n",
       "         -81: 124,\n",
       "         -80: 142,\n",
       "         -79: 101,\n",
       "         -78: 99,\n",
       "         -77: 109,\n",
       "         -76: 95,\n",
       "         -75: 121,\n",
       "         -74: 93,\n",
       "         -73: 80,\n",
       "         -72: 88,\n",
       "         -71: 88,\n",
       "         -70: 108,\n",
       "         -69: 82,\n",
       "         -68: 74,\n",
       "         -67: 55,\n",
       "         -66: 67,\n",
       "         -65: 44,\n",
       "         -64: 71,\n",
       "         -63: 53,\n",
       "         -62: 48,\n",
       "         -61: 48,\n",
       "         -60: 45,\n",
       "         -59: 45,\n",
       "         -58: 42,\n",
       "         -57: 43,\n",
       "         -56: 40,\n",
       "         -55: 31,\n",
       "         -54: 31,\n",
       "         -53: 35,\n",
       "         -52: 29,\n",
       "         -51: 30,\n",
       "         -50: 20,\n",
       "         -49: 25,\n",
       "         -48: 26,\n",
       "         -47: 20,\n",
       "         -46: 26,\n",
       "         -45: 17,\n",
       "         -44: 25,\n",
       "         -43: 24,\n",
       "         -42: 15,\n",
       "         -41: 21,\n",
       "         -40: 20,\n",
       "         -39: 11,\n",
       "         -38: 12,\n",
       "         -37: 18,\n",
       "         -36: 15,\n",
       "         -35: 12,\n",
       "         -34: 14,\n",
       "         -33: 7,\n",
       "         -32: 10,\n",
       "         -31: 6,\n",
       "         -30: 9,\n",
       "         -29: 6,\n",
       "         -28: 11,\n",
       "         -27: 4,\n",
       "         -26: 11,\n",
       "         -25: 6,\n",
       "         -24: 6,\n",
       "         -23: 6,\n",
       "         -22: 8,\n",
       "         -21: 3,\n",
       "         -20: 3,\n",
       "         -19: 1,\n",
       "         -18: 8,\n",
       "         -17: 2,\n",
       "         -16: 7,\n",
       "         -15: 3,\n",
       "         -14: 2,\n",
       "         -13: 3,\n",
       "         -12: 3,\n",
       "         -11: 2,\n",
       "         -9: 3,\n",
       "         -8: 1,\n",
       "         -7: 2,\n",
       "         -6: 4,\n",
       "         -5: 1,\n",
       "         -4: 3,\n",
       "         -3: 2,\n",
       "         -1: 3,\n",
       "         0: 2,\n",
       "         2: 2,\n",
       "         4: 2,\n",
       "         5: 2,\n",
       "         9: 1,\n",
       "         11: 2,\n",
       "         16: 1,\n",
       "         18: 2,\n",
       "         19: 3})"
      ]
     },
     "execution_count": 76,
     "metadata": {},
     "output_type": "execute_result"
    }
   ],
   "source": [
    "newscore = []\n",
    "for score in df.Score_bki:\n",
    "    newscore.append(int(score * 100))\n",
    "Counter(newscore)"
   ]
  },
  {
   "cell_type": "code",
   "execution_count": 77,
   "metadata": {
    "collapsed": true
   },
   "outputs": [],
   "source": [
    "verynewscore = []\n",
    "for score in newscore:\n",
    "    if (score > -70):\n",
    "        verynewscore.append(-70)\n",
    "    elif (score < -300):\n",
    "        verynewscore.append(-300)\n",
    "    else:\n",
    "        verynewscore.append(score)\n",
    "df.Score_bki = verynewscore"
   ]
  },
  {
   "cell_type": "code",
   "execution_count": 78,
   "metadata": {},
   "outputs": [
    {
     "data": {
      "text/plain": [
       "Counter({0: 50621,\n",
       "         1: 50979,\n",
       "         2: 39915,\n",
       "         3: 26884,\n",
       "         4: 16149,\n",
       "         5: 9197,\n",
       "         6: 4730,\n",
       "         7: 2458,\n",
       "         8: 1283,\n",
       "         9: 835,\n",
       "         10: 633,\n",
       "         11: 449,\n",
       "         12: 355,\n",
       "         13: 246,\n",
       "         14: 191,\n",
       "         15: 90,\n",
       "         16: 70,\n",
       "         17: 37,\n",
       "         18: 36,\n",
       "         19: 32,\n",
       "         20: 15,\n",
       "         21: 19,\n",
       "         22: 8,\n",
       "         23: 14,\n",
       "         24: 12,\n",
       "         25: 5,\n",
       "         26: 5,\n",
       "         27: 5,\n",
       "         28: 5,\n",
       "         29: 3,\n",
       "         32: 4,\n",
       "         33: 2,\n",
       "         34: 1,\n",
       "         36: 1,\n",
       "         40: 2,\n",
       "         41: 1,\n",
       "         45: 1,\n",
       "         46: 1,\n",
       "         47: 1,\n",
       "         53: 1})"
      ]
     },
     "execution_count": 78,
     "metadata": {},
     "output_type": "execute_result"
    }
   ],
   "source": [
    "Counter(df.out_request_cnt)"
   ]
  },
  {
   "cell_type": "code",
   "execution_count": 79,
   "metadata": {
    "collapsed": true
   },
   "outputs": [],
   "source": [
    "newoutrequest = []\n",
    "for val in df.out_request_cnt:\n",
    "    if (val > 15):\n",
    "        newoutrequest.append(15)\n",
    "    else:\n",
    "        newoutrequest.append(val)\n",
    "df.out_request_cnt = newoutrequest"
   ]
  },
  {
   "cell_type": "markdown",
   "metadata": {},
   "source": [
    "## В возрасте аномалий не найдено"
   ]
  },
  {
   "cell_type": "code",
   "execution_count": 80,
   "metadata": {},
   "outputs": [
    {
     "data": {
      "text/plain": [
       "Counter({21: 2174,\n",
       "         22: 2366,\n",
       "         23: 3812,\n",
       "         24: 4922,\n",
       "         25: 5988,\n",
       "         26: 6865,\n",
       "         27: 7286,\n",
       "         28: 7611,\n",
       "         29: 7464,\n",
       "         30: 7604,\n",
       "         31: 7737,\n",
       "         32: 7207,\n",
       "         33: 6693,\n",
       "         34: 6535,\n",
       "         35: 6302,\n",
       "         36: 6116,\n",
       "         37: 5975,\n",
       "         38: 5930,\n",
       "         39: 5826,\n",
       "         40: 5546,\n",
       "         41: 5283,\n",
       "         42: 5270,\n",
       "         43: 5063,\n",
       "         44: 4786,\n",
       "         45: 4152,\n",
       "         46: 4074,\n",
       "         47: 4000,\n",
       "         48: 3949,\n",
       "         49: 3772,\n",
       "         50: 3847,\n",
       "         51: 3701,\n",
       "         52: 3821,\n",
       "         53: 3779,\n",
       "         54: 3597,\n",
       "         55: 3402,\n",
       "         56: 3064,\n",
       "         57: 2902,\n",
       "         58: 2584,\n",
       "         59: 2462,\n",
       "         60: 2263,\n",
       "         61: 1805,\n",
       "         62: 1572,\n",
       "         63: 1388,\n",
       "         64: 1209,\n",
       "         65: 1158,\n",
       "         66: 840,\n",
       "         67: 707,\n",
       "         68: 519,\n",
       "         69: 245,\n",
       "         70: 112,\n",
       "         71: 9,\n",
       "         72: 2})"
      ]
     },
     "execution_count": 80,
     "metadata": {},
     "output_type": "execute_result"
    }
   ],
   "source": [
    "Counter(df.age)"
   ]
  },
  {
   "cell_type": "markdown",
   "metadata": {},
   "source": [
    "## Gradient Boosting"
   ]
  },
  {
   "cell_type": "code",
   "execution_count": 81,
   "metadata": {},
   "outputs": [
    {
     "name": "stdout",
     "output_type": "stream",
     "text": [
      "   Train Validate    C\n",
      "0.740638 0.718905 0.070000\n",
      "0.741498 0.719093 0.080000\n",
      "0.742498 0.719150 0.090000\n",
      "0.743407 0.719597 0.100000\n"
     ]
    }
   ],
   "source": [
    "from sklearn.ensemble import GradientBoostingClassifier\n",
    "from sklearn.metrics import roc_auc_score, mean_squared_error\n",
    "from sklearn import linear_model\n",
    "from sklearn.svm import SVC\n",
    "print ('%8s %8s %4s' % ('Train','Validate','C'))\n",
    "for C in [0.07, 0.08, 0.09, 0.1]:\n",
    "    clf = GradientBoostingClassifier(learning_rate=C)\n",
    "    clf.fit(df.loc[train_index], y.loc[train_index].default_flg) \n",
    "    AUC_validate = roc_auc_score(y.loc[validate_index].default_flg, clf.decision_function(df.loc[validate_index])[:,])\n",
    "    AUC_train = roc_auc_score(y.loc[train_index].default_flg, clf.decision_function(df.loc[train_index])[:,])\n",
    "    print('%.6f %.6f %f' %  (AUC_train, AUC_validate, C))"
   ]
  },
  {
   "cell_type": "markdown",
   "metadata": {},
   "source": [
    "Запускаем лучшее решение и сохраняем результат"
   ]
  },
  {
   "cell_type": "code",
   "execution_count": 82,
   "metadata": {},
   "outputs": [],
   "source": [
    "bestF = GradientBoostingClassifier()\n",
    "bestF.fit(df.loc[trainandvalidate_index], y.loc[trainandvalidate_index].default_flg)\n",
    "test_pd = bestF.predict_proba(df.loc[test_index])[:,1]"
   ]
  },
  {
   "cell_type": "markdown",
   "metadata": {},
   "source": [
    "Выводим коэффициенты"
   ]
  },
  {
   "cell_type": "markdown",
   "metadata": {},
   "source": [
    "Сохраняем результат в csv"
   ]
  },
  {
   "cell_type": "code",
   "execution_count": 84,
   "metadata": {},
   "outputs": [
    {
     "name": "stdout",
     "output_type": "stream",
     "text": [
      "(24480, 1)\n"
     ]
    },
    {
     "data": {
      "text/html": [
       "<div>\n",
       "<style>\n",
       "    .dataframe thead tr:only-child th {\n",
       "        text-align: right;\n",
       "    }\n",
       "\n",
       "    .dataframe thead th {\n",
       "        text-align: left;\n",
       "    }\n",
       "\n",
       "    .dataframe tbody tr th {\n",
       "        vertical-align: top;\n",
       "    }\n",
       "</style>\n",
       "<table border=\"1\" class=\"dataframe\">\n",
       "  <thead>\n",
       "    <tr style=\"text-align: right;\">\n",
       "      <th></th>\n",
       "      <th>score</th>\n",
       "    </tr>\n",
       "    <tr>\n",
       "      <th>id</th>\n",
       "      <th></th>\n",
       "    </tr>\n",
       "  </thead>\n",
       "  <tbody>\n",
       "    <tr>\n",
       "      <th>180817</th>\n",
       "      <td>0.071463</td>\n",
       "    </tr>\n",
       "    <tr>\n",
       "      <th>180818</th>\n",
       "      <td>0.118978</td>\n",
       "    </tr>\n",
       "  </tbody>\n",
       "</table>\n",
       "</div>"
      ],
      "text/plain": [
       "           score\n",
       "id              \n",
       "180817  0.071463\n",
       "180818  0.118978"
      ]
     },
     "execution_count": 84,
     "metadata": {},
     "output_type": "execute_result"
    }
   ],
   "source": [
    "test_pd = pd.DataFrame(test_pd, columns=['score'], index=test_index)\n",
    "test_pd.to_csv('my_submission.csv')\n",
    "print(test_pd.shape)\n",
    "test_pd.head(2)"
   ]
  },
  {
   "cell_type": "code",
   "execution_count": null,
   "metadata": {
    "collapsed": true
   },
   "outputs": [],
   "source": []
  }
 ],
 "metadata": {
  "kernelspec": {
   "display_name": "Python 3",
   "language": "python",
   "name": "python3"
  },
  "language_info": {
   "codemirror_mode": {
    "name": "ipython",
    "version": 3
   },
   "file_extension": ".py",
   "mimetype": "text/x-python",
   "name": "python",
   "nbconvert_exporter": "python",
   "pygments_lexer": "ipython3",
   "version": "3.6.1"
  }
 },
 "nbformat": 4,
 "nbformat_minor": 1
}
